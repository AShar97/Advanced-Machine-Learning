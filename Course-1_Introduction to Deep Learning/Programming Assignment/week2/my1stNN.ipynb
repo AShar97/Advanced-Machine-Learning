{
 "cells": [
  {
   "cell_type": "code",
   "execution_count": 1,
   "metadata": {},
   "outputs": [
    {
     "name": "stderr",
     "output_type": "stream",
     "text": [
      "Using TensorFlow backend.\n"
     ]
    },
    {
     "name": "stdout",
     "output_type": "stream",
     "text": [
      "Downloading data from https://s3.amazonaws.com/img-datasets/mnist.npz\n",
      "10289152/11490434 [=========================>....] - ETA: 0s(50000, 28, 28) (50000,)\n"
     ]
    },
    {
     "data": {
      "image/png": "[encoded data removed]",
      "text/plain": [
       "<matplotlib.figure.Figure at 0x7ff8206462b0>"
      ]
     },
     "metadata": {},
     "output_type": "display_data"
    }
   ],
   "source": [
    "from preprocessed_mnist import load_dataset\n",
    "X_train, y_train, X_val, y_val, X_test, y_test = load_dataset()\n",
    "print(X_train.shape, y_train.shape)\n",
    "import matplotlib.pyplot as plt\n",
    "%matplotlib inline\n",
    "plt.imshow(X_train[0], cmap=\"Greys\");"
   ]
  },
  {
   "cell_type": "code",
   "execution_count": 2,
   "metadata": {
    "collapsed": true
   },
   "outputs": [],
   "source": [
    "import numpy as np\n",
    "import tensorflow as tf"
   ]
  },
  {
   "cell_type": "markdown",
   "metadata": {},
   "source": [
    "# Data handling"
   ]
  },
  {
   "cell_type": "code",
   "execution_count": 3,
   "metadata": {
    "collapsed": true
   },
   "outputs": [],
   "source": [
    "X_train_flatten = X_train.reshape(X_train.shape[0], -1)\n",
    "X_test_flatten = X_test.reshape(X_test.shape[0], -1)\n",
    "\n",
    "y_train_multiclass = np.zeros(shape=(y_train.shape[0], 10), dtype=np.uint8)\n",
    "y_test_multiclass = np.zeros(shape=(y_test.shape[0], 10), dtype=np.uint8)\n",
    "\n",
    "for i in range(y_train.shape[0]):\n",
    "    y_train_multiclass[i, y_train[i]] = 1\n",
    "for i in range(y_test.shape[0]):\n",
    "    y_test_multiclass[i, y_test[i]] = 1\n",
    "\n",
    "#X_mean = np.reshape(np.mean(X_train_flatten, axis=0), (1, X_train_flatten.shape[1]))\n",
    "#X_std = np.reshape(np.std(X_train_flatten, axis=0), (1, X_train_flatten.shape[1]))\n",
    "\n",
    "#X_train_flatten_normal = (X_train_flatten - X_mean)/X_std\n",
    "#X_test_flatten_normal = (X_test_flatten - X_mean)/X_std\n",
    "\n",
    "#np.min(X_train_flatten) #np.min(X_test_flatten) #0.0\n",
    "#np.max(X_train_flatten) #np.max(X_test_flatten) #1.0\n",
    "\n",
    "#Already normalized. No need for it again.\n",
    "\n",
    "#without normalisation\n",
    "X_train_flatten_normal = X_train_flatten\n",
    "X_test_flatten_normal = X_test_flatten"
   ]
  },
  {
   "cell_type": "code",
   "execution_count": 4,
   "metadata": {},
   "outputs": [
    {
     "name": "stdout",
     "output_type": "stream",
     "text": [
      "(50000, 784) (50000, 10) (10000, 784) (10000, 10)\n"
     ]
    }
   ],
   "source": [
    "print(X_train_flatten_normal.shape, y_train_multiclass.shape, X_test_flatten_normal.shape, y_test_multiclass.shape)"
   ]
  },
  {
   "cell_type": "code",
   "execution_count": 5,
   "metadata": {},
   "outputs": [
    {
     "data": {
      "image/png": "[encoded data removed]",
      "text/plain": [
       "<matplotlib.figure.Figure at 0x7ff7e2572e80>"
      ]
     },
     "metadata": {},
     "output_type": "display_data"
    }
   ],
   "source": [
    "plt.imshow(np.reshape(X_train_flatten_normal[0], (28, 28)), cmap=\"Greys\");"
   ]
  },
  {
   "cell_type": "code",
   "execution_count": 6,
   "metadata": {},
   "outputs": [
    {
     "data": {
      "text/plain": [
       "array([[0, 0, 0, ..., 0, 0, 0],\n",
       "       [1, 0, 0, ..., 0, 0, 0],\n",
       "       [0, 0, 0, ..., 0, 0, 0],\n",
       "       ..., \n",
       "       [0, 0, 0, ..., 0, 1, 0],\n",
       "       [0, 0, 0, ..., 0, 0, 0],\n",
       "       [0, 0, 0, ..., 0, 1, 0]], dtype=uint8)"
      ]
     },
     "execution_count": 6,
     "metadata": {},
     "output_type": "execute_result"
    }
   ],
   "source": [
    "y_train_multiclass"
   ]
  },
  {
   "cell_type": "markdown",
   "metadata": {},
   "source": [
    "# TensorFlow NN"
   ]
  },
  {
   "cell_type": "code",
   "execution_count": 7,
   "metadata": {
    "collapsed": true
   },
   "outputs": [],
   "source": [
    "#In our case\n",
    "train_eg, test_eg = 50000, 10000\n",
    "\n",
    "layers = [784, 196, 49, 10]"
   ]
  },
  {
   "cell_type": "code",
   "execution_count": 8,
   "metadata": {
    "collapsed": true
   },
   "outputs": [],
   "source": [
    "# Model parameters - weights and bias\n",
    "w1 = tf.Variable(initial_value=tf.random_normal(shape=(layers[0], layers[1]), stddev=0.01, dtype=tf.float64), dtype=tf.float64, name=\"weights_1\")\n",
    "b1 = tf.Variable(initial_value=tf.zeros(shape=(1, layers[1]), dtype=tf.float64), dtype=tf.float64, name=\"bias_1\")\n",
    "\n",
    "w2 = tf.Variable(initial_value=tf.random_normal(shape=(layers[1], layers[2]), stddev=0.01, dtype=tf.float64), dtype=tf.float64, name=\"weights_2\")\n",
    "b2 = tf.Variable(initial_value=tf.zeros(shape=(1, layers[2]), dtype=tf.float64), dtype=tf.float64, name=\"bias_2\")\n",
    "\n",
    "w3 = tf.Variable(initial_value=tf.random_normal(shape=(layers[2], layers[3]), stddev=0.01, dtype=tf.float64), dtype=tf.float64, name=\"weights_3\")\n",
    "b3 = tf.Variable(initial_value=tf.zeros(shape=(1, layers[3]), dtype=tf.float64), dtype=tf.float64, name=\"bias_3\")"
   ]
  },
  {
   "cell_type": "code",
   "execution_count": 9,
   "metadata": {
    "collapsed": true
   },
   "outputs": [],
   "source": [
    "# Placeholders for the input data\n",
    "input_X = tf.placeholder(tf.float64, shape=(None, None), name=\"input_X\") # X_train, X_test\n",
    "input_y = tf.placeholder(tf.float64, shape=(None, None), name=\"input_y\") # y_train, y_test\n",
    "\n",
    "keep_prob = tf.placeholder(tf.float64, name=\"keep_prob\")"
   ]
  },
  {
   "cell_type": "code",
   "execution_count": 13,
   "metadata": {
    "collapsed": true
   },
   "outputs": [],
   "source": [
    "# The model code\n",
    "\n",
    "a1 = input_X\n",
    "\n",
    "z2 = tf.add(tf.matmul(a1, w1), b1)\n",
    "a2_ = tf.nn.relu(z2)\n",
    "a2 = tf.nn.dropout(a2_, keep_prob)\n",
    "\n",
    "z3 = tf.add(tf.matmul(a2, w2), b2)\n",
    "a3_ = tf.nn.relu(z3)\n",
    "a3 = tf.nn.dropout(a3_, keep_prob)\n",
    "\n",
    "z4 = tf.add(tf.matmul(a3, w3), b3)\n",
    "a4 = tf.nn.softmax(z4)\n",
    "\n",
    "predicted_y = a4\n",
    "\n",
    "correct_prediction = tf.equal(tf.argmax(input_y,1), tf.argmax(predicted_y,1))\n",
    "accuracy = tf.reduce_mean(tf.cast(correct_prediction, tf.float64))\n",
    "\n",
    "loss = (tf.reduce_mean(-tf.reduce_sum(input_y * tf.log(predicted_y), axis=1))\n",
    "        + tf.div(tf.reduce_sum(tf.matmul(tf.transpose(w1), w1)), tf.cast(tf.shape(input_X)[0], tf.float64))\n",
    "        + tf.div(tf.reduce_sum(tf.matmul(tf.transpose(w2), w2)), tf.cast(tf.shape(input_X)[0], tf.float64))\n",
    "        + tf.div(tf.reduce_sum(tf.matmul(tf.transpose(w3), w3)), tf.cast(tf.shape(input_X)[0], tf.float64))\n",
    "       )\n",
    "#loss = tf.reduce_mean(tf.nn.softmax_cross_entropy_with_logits(logits=z4, labels=input_y))\n",
    "\n",
    "starter_learning_rate = 0.003\n",
    "global_step = tf.Variable(0, trainable=False)\n",
    "learning_rate = tf.train.exponential_decay(starter_learning_rate, global_step, 100, 0.85, staircase=True)\n",
    "\n",
    "optimizer = tf.train.AdamOptimizer(learning_rate).minimize(loss, var_list=[w1, b1, w2, b2, w3, b3])"
   ]
  },
  {
   "cell_type": "code",
   "execution_count": 14,
   "metadata": {},
   "outputs": [
    {
     "name": "stdout",
     "output_type": "stream",
     "text": [
      "loss_train at epoch 0:0.3505\n",
      "accuracy_train at epoch 0:0.8992\n",
      "loss_test at epoch 0:0.3384\n",
      "accuracy_test at epoch 0:0.9012\n",
      "loss_train at epoch 10:0.0409\n",
      "accuracy_train at epoch 10:0.9874\n",
      "loss_test at epoch 10:0.0876\n",
      "accuracy_test at epoch 10:0.9753\n",
      "loss_train at epoch 20:0.0212\n",
      "accuracy_train at epoch 20:0.9929\n",
      "loss_test at epoch 20:0.0906\n",
      "accuracy_test at epoch 20:0.9773\n",
      "loss_train at epoch 30:0.0164\n",
      "accuracy_train at epoch 30:0.9941\n",
      "loss_test at epoch 30:0.0982\n",
      "accuracy_test at epoch 30:0.9787\n",
      "loss_train at epoch 40:0.0067\n",
      "accuracy_train at epoch 40:0.9981\n",
      "loss_test at epoch 40:0.1018\n",
      "accuracy_test at epoch 40:0.9799\n",
      "loss_train at epoch 50:0.0035\n",
      "accuracy_train at epoch 50:0.9990\n",
      "loss_test at epoch 50:0.0977\n",
      "accuracy_test at epoch 50:0.9801\n"
     ]
    },
    {
     "data": {
      "image/png": "[encoded data removed]",
      "text/plain": [
       "<matplotlib.figure.Figure at 0x7ff7dc14bb70>"
      ]
     },
     "metadata": {},
     "output_type": "display_data"
    },
    {
     "data": {
      "image/png": "[encoded data removed]",
      "text/plain": [
       "<matplotlib.figure.Figure at 0x7ff7e0064630>"
      ]
     },
     "metadata": {},
     "output_type": "display_data"
    }
   ],
   "source": [
    "batch_size = 500\n",
    "with tf.Session() as sess:\n",
    "    sess.run(tf.global_variables_initializer())\n",
    "    train_costs, train_accuracies = [], []\n",
    "    test_costs, test_accuracies = [], []\n",
    "    for epoch in range(51):\n",
    "        for i in range(0, train_eg, batch_size):\n",
    "            sess.run(optimizer, {input_X: X_train_flatten_normal[i:i+batch_size,:], input_y: y_train_multiclass[i:i+batch_size,:], keep_prob:0.8})\n",
    "        \n",
    "        loss_train = sess.run(loss, {input_X: X_train_flatten_normal, input_y: y_train_multiclass, keep_prob:1.0})\n",
    "        accuracy_train = sess.run(accuracy, {input_X: X_train_flatten_normal, input_y: y_train_multiclass, keep_prob:1.0})\n",
    "        \n",
    "        loss_test = sess.run(loss, {input_X: X_test_flatten_normal, input_y: y_test_multiclass, keep_prob:1.0})\n",
    "        accuracy_test = sess.run(accuracy, {input_X: X_test_flatten_normal, input_y: y_test_multiclass, keep_prob:1.0})\n",
    "        \n",
    "        train_costs.append(loss_train)\n",
    "        train_accuracies.append(accuracy_train)\n",
    "        test_costs.append(loss_test)\n",
    "        test_accuracies.append(accuracy_test)\n",
    "        \n",
    "        if (epoch%10 == 0):\n",
    "            print(\"loss_train at epoch %i:%.4f\" % (epoch, loss_train))\n",
    "            print(\"accuracy_train at epoch %i:%.4f\" % (epoch, accuracy_train))\n",
    "            \n",
    "            print(\"loss_test at epoch %i:%.4f\" % (epoch, loss_test))\n",
    "            print(\"accuracy_test at epoch %i:%.4f\" % (epoch, accuracy_test))\n",
    "    \n",
    "    iterations = list(range(51))\n",
    "    plt.plot(iterations, train_costs, label='Train')\n",
    "    plt.plot(iterations, test_costs, label='Test')\n",
    "    plt.ylabel('Cost')\n",
    "    plt.xlabel('iterations')\n",
    "    plt.show()\n",
    "    \n",
    "    plt.plot(iterations, train_accuracies, label='Train')\n",
    "    plt.plot(iterations, test_accuracies, label='Test')\n",
    "    plt.ylabel('Accuracy')\n",
    "    plt.xlabel('iterations')\n",
    "    plt.show()"
   ]
  },
  {
   "cell_type": "code",
   "execution_count": null,
   "metadata": {
    "collapsed": true
   },
   "outputs": [],
   "source": []
  }
 ],
 "metadata": {
  "kernelspec": {
   "display_name": "Python 3",
   "language": "python",
   "name": "python3"
  },
  "language_info": {
   "codemirror_mode": {
    "name": "ipython",
    "version": 3
   },
   "file_extension": ".py",
   "mimetype": "text/x-python",
   "name": "python",
   "nbconvert_exporter": "python",
   "pygments_lexer": "ipython3",
   "version": "3.6.0"
  }
 },
 "nbformat": 4,
 "nbformat_minor": 2
}
