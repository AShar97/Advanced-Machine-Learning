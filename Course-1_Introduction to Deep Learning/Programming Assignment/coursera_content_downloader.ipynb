{
 "cells": [
  {
   "cell_type": "code",
   "execution_count": 1,
   "metadata": {
    "collapsed": true
   },
   "outputs": [],
   "source": [
    "# #Made a new python-3 notebook and add this code to a cell. This creates a file (currdir.tar) in the current directory. Pasted the code below into the first cell and executed the cell.\n",
    "\n",
    "# #Then clicked File->Open to take you to the directory listing and can download this tar file. For the Week 4 ResNet exercise this file was around 250M. After I downloaded it, I deleted it so it wouldn't take up room on their server.\n",
    "\n",
    "# import os\n",
    "# import tarfile\n",
    "# tarFileName='currdir.tar'\n",
    "# def RecursiveFiles(dn='.',ignoreTarFile=tarFileName):\n",
    "#     ignore={'.pynb_checkpoints','pycache',ignoreTarFile}\n",
    "#     for dirname,subdirs,files in os.walk(dn):\n",
    "#         if os.path.basename(dirname) in ignore: continue\n",
    "#         for fn in files:\n",
    "#             fname=os.path.join(dirname,fn)\n",
    "#             yield(fname)\n",
    "#     return\n",
    "\n",
    "# def makeTarFile(dn='.',tfn=tarFileName):\n",
    "#     tar=tarfile.open(tfn,'w')\n",
    "#     for name in RecursiveFiles(dn,tfn):\n",
    "#         tar.add(name)\n",
    "#     tar.close()\n",
    "\n",
    "# makeTarFile()"
   ]
  },
  {
   "cell_type": "code",
   "execution_count": null,
   "metadata": {},
   "outputs": [
    {
     "name": "stdout",
     "output_type": "stream",
     "text": [
      "README.md\n",
      "__pycache__/\n",
      "__pycache__/download_utils.cpython-36.pyc\n",
      "__pycache__/grading.cpython-36.pyc\n",
      "coursera_content_downloader.ipynb\n",
      "download_resources.ipynb\n",
      "download_utils.py\n",
      "grading.py\n",
      "keras_utils.py\n",
      "readonly/\n",
      "readonly/week4/\n",
      "readonly/week4/lfw-deepfunneled.tgz\n",
      "readonly/week4/lfw.tgz\n",
      "readonly/week4/lfw_attributes.txt\n",
      "readonly/week6/\n",
      "readonly/week6/val_img_embeds.pickle\n",
      "readonly/week6/val2014_sample.zip\n",
      "readonly/week6/captions_train-val2014.zip\n",
      "readonly/week6/train_img_fns.pickle\n",
      "readonly/week6/val_img_fns.pickle\n",
      "readonly/week6/train2014_sample.zip\n",
      "readonly/week6/train_img_embeds.pickle\n",
      "readonly/keras/\n",
      "readonly/keras/models/\n",
      "readonly/keras/models/inception_v3_weights_tf_dim_ordering_tf_kernels_notop.h5\n",
      "readonly/keras/datasets/\n",
      "readonly/keras/datasets/cifar-10-batches-py.tar.gz\n",
      "readonly/keras/datasets/mnist.npz\n",
      "readonly/week3/\n",
      "readonly/week3/102flowers.tgz\n",
      "readonly/week3/imagelabels.mat\n",
      "week1/\n",
      "week1/kernel.png\n",
      "week1/target.npy\n",
      "week1/.ipynb_checkpoints/\n",
      "week1/.ipynb_checkpoints/week01_pa-checkpoint.ipynb\n",
      "week1/sgd.png\n",
      "week1/week01_pa.ipynb\n",
      "week1/train.npy\n",
      "week2/\n",
      "week2/preprocessed_mnist.py\n",
      "week2/NumpyNN (honor).ipynb\n",
      "week2/my1stNN.ipynb\n",
      "week2/.ipynb_checkpoints/\n",
      "week2/.ipynb_checkpoints/Tensorflow-task-checkpoint.ipynb\n",
      "week2/.ipynb_checkpoints/my1stNN-checkpoint.ipynb\n",
      "week2/Keras-task.ipynb\n",
      "week2/__pycache__/\n",
      "week2/__pycache__/preprocessed_mnist.cpython-36.pyc\n",
      "week2/__pycache__/matplotlib_utils.cpython-36.pyc\n",
      "week2/__pycache__/submit.cpython-36.pyc\n",
      "week2/util.py\n",
      "week2/Tensorflow-task.ipynb\n",
      "week2/validation_predictons.txt\n",
      "week2/submit.py\n",
      "week2/matplotlib_utils.py\n",
      "week3/\n",
      "week3/week3_task2_fine_tuning_clean.ipynb\n",
      "week3/.ipynb_checkpoints/\n",
      "week3/images/\n",
      "week3/images/flowers.jpg\n",
      "week3/images/inceptionv3.png\n",
      "week3/images/cifar10.jpg\n",
      "week3/images/center_crop.jpg\n",
      "week3/week3_task1_first_cnn_cifar10_clean.ipynb\n",
      "week3/grading_utils.py\n",
      "week4/\n",
      "week4/submit_honor.py\n",
      "week4/Autoencoders-task.ipynb\n",
      "week4/images/\n",
      "week4/images/autoencoder.png\n",
      "week4/images/similar_images.jpg\n",
      "week4/images/transpose_conv.jpg\n",
      "week4/images/pca.png\n",
      "week4/images/denoising.jpg\n",
      "week4/Adversarial-task.ipynb\n",
      "week4/lfw_dataset.py\n",
      "week4/submit.py\n",
      "week5/\n",
      "week5/names\n",
      "week5/mtg_card_names.txt\n",
      "week5/POS-task.ipynb\n",
      "week5/data_copyright\n",
      "week5/RNN-task.ipynb\n",
      "week5/rnn.png\n",
      "week5/submit.py\n",
      "week6/\n",
      "week6/week6_final_project_image_captioning_clean.ipynb\n",
      "week6/utils.py\n",
      "week6/images/\n",
      "week6/images/encoder_decoder.png\n",
      "week6/images/encoder_decoder_explained.png\n",
      "week6/images/inceptionv3.png\n",
      "week6/images/flatten_help.jpg\n",
      "week6/grading_utils.py\n"
     ]
    }
   ],
   "source": [
    "!tar cvfz allfiles.tar.gz *"
   ]
  },
  {
   "cell_type": "code",
   "execution_count": null,
   "metadata": {
    "collapsed": true
   },
   "outputs": [],
   "source": [
    "!split -b 100m allfiles.tar.gz allfiles.tar.gz.part."
   ]
  },
  {
   "cell_type": "code",
   "execution_count": null,
   "metadata": {
    "collapsed": true
   },
   "outputs": [],
   "source": []
  }
 ],
 "metadata": {
  "kernelspec": {
   "display_name": "Python 3",
   "language": "python",
   "name": "python3"
  },
  "language_info": {
   "codemirror_mode": {
    "name": "ipython",
    "version": 3
   },
   "file_extension": ".py",
   "mimetype": "text/x-python",
   "name": "python",
   "nbconvert_exporter": "python",
   "pygments_lexer": "ipython3",
   "version": "3.6.0"
  }
 },
 "nbformat": 4,
 "nbformat_minor": 2
}
